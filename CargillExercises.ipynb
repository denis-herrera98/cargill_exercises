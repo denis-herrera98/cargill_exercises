{
  "nbformat": 4,
  "nbformat_minor": 0,
  "metadata": {
    "colab": {
      "name": "CargillExercises.ipynb",
      "provenance": [],
      "toc_visible": true,
      "collapsed_sections": [],
      "authorship_tag": "ABX9TyPMlmpJKmURqvxTzZsaS05+",
      "include_colab_link": true
    },
    "kernelspec": {
      "name": "python3",
      "display_name": "Python 3"
    },
    "language_info": {
      "name": "python"
    }
  },
  "cells": [
    {
      "cell_type": "markdown",
      "metadata": {
        "id": "view-in-github",
        "colab_type": "text"
      },
      "source": [
        "<a href=\"https://colab.research.google.com/github/denis-herrera98/cargill_exercises/blob/main/CargillExercises.ipynb\" target=\"_parent\"><img src=\"https://colab.research.google.com/assets/colab-badge.svg\" alt=\"Open In Colab\"/></a>"
      ]
    },
    {
      "cell_type": "code",
      "execution_count": null,
      "metadata": {
        "id": "SkpC8ghRGt4K"
      },
      "outputs": [],
      "source": [
        "import pandas as pd\n",
        "from tabulate import tabulate\n",
        "\n",
        "clients = pd.read_excel('/content/CarSalesDataForReports.xlsx', 'Clients')\n",
        "colors = pd.read_excel('/content/CarSalesDataForReports.xlsx', 'Colors')\n",
        "countries = pd.read_excel('/content/CarSalesDataForReports.xlsx', 'Countries')\n",
        "stock = pd.read_excel('/content/CarSalesDataForReports.xlsx', 'Stock')\n",
        "invoices = pd.read_excel('/content/CarSalesDataForReports.xlsx', 'Invoices')\n",
        "invoicesLines = pd.read_excel('/content/CarSalesDataForReports.xlsx', 'InvoiceLines')\n",
        "\n"
      ]
    },
    {
      "cell_type": "markdown",
      "source": [
        "1.**Define the required classes, methods and properties based on CarSalesDataforReports Excel file.**"
      ],
      "metadata": {
        "id": "UudY1s6V15GR"
      }
    },
    {
      "cell_type": "code",
      "source": [
        "class Client:\n",
        "  def __init__(self, name, client_id, client_address1, client_address2, county, town, region, outer_postcode, country_id, client_type, client_size, client_since, client_is_worthy, is_dealer): \n",
        "    self.name = name\n",
        "    self.client_id = client_id\n",
        "    self.client_address1 = client_address1\n",
        "    self.client_address2 = client_address2\n",
        "    self.county = county\n",
        "    self.town = town\n",
        "    self.region = region\n",
        "    self.outer_postcode = outer_postcode\n",
        "    self.country_id = country_id\n",
        "    self.client_type = client_type\n",
        "    self.client_size = client_size\n",
        "    self.client_since = client_since\n",
        "    self.client_is_worthy = client_is_worthy\n",
        "    self.is_dealer = is_dealer \n",
        "\n",
        "class Color:\n",
        "  def __init__(self, color_id, color): \n",
        "    self.color_id = color_id\n",
        "    self.color = color\n",
        "\n",
        "    \n",
        "class Country:\n",
        "  def __init__(self, country_id, country_iso_code): \n",
        "    self.country_id = country_id\n",
        "    self.country_iso_code = country_iso_code\n",
        "\n",
        "class Invoices:\n",
        "  def __init__(self, invoice_id, invoice_number, client_id, invoice_date,total_discount, delivery_charge, invoice_date_key, invoices_lines): \n",
        "    self.invoice_id = invoice_id\n",
        "    self.invoice_number = invoice_number\n",
        "    self.client_id = client_id\n",
        "    self.invoice_date = invoice_date\n",
        "    self.total_discount = total_discount\n",
        "    self.delivery_charge = delivery_charge\n",
        "    self.invoice_date_key = invoice_date_key\n",
        "    self.invoices_lines = invoices_lines\n",
        "\n",
        "class InvoicesLines:\n",
        "  def __init__(self, invoice_id, invoice_line_id, stock_id, sale_price, line_item): \n",
        "    self.invoice_id = invoice_id\n",
        "    self.invoice_line_id = invoice_line_id\n",
        "    self.stock_id = stock_id\n",
        "    self.sale_price = sale_price\n",
        "    self.line_item = line_item"
      ],
      "metadata": {
        "id": "Uwzy47oo3aRm"
      },
      "execution_count": 2,
      "outputs": []
    },
    {
      "cell_type": "markdown",
      "source": [
        "2. **Based on the point number one, define a class to include another kind of transportation vehicle. Include\n",
        "properties and methods that you consider required.**"
      ],
      "metadata": {
        "id": "3xwUSFAW8ktP"
      }
    },
    {
      "cell_type": "code",
      "source": [
        "# This will be our parent class, all the vehicles that we want to add to our system will inherit from this Vehicle class. \n",
        "# There is goning to be a function for testing the things out.\n",
        "\n",
        "class Vehicle:\n",
        "  def __init__(self, make, model, color_id, vehicle_type, cost_price, spare_parts, labor_cost, registration_date, mileage, purchase_date, vehicle_age_in_years ):\n",
        "    self.make = make\n",
        "    self.model = model\n",
        "    self.color_id = color_id\n",
        "    self.vehicle_type = vehicle_type\n",
        "    self.cost_price = cost_price\n",
        "    self.spare_parts = spare_parts\n",
        "    self.labor_cost = labor_cost\n",
        "    self.registration_date = registration_date\n",
        "    self.mileage = mileage\n",
        "    self.purchase_date = purchase_date\n",
        "    self.vehicle_age_in_years = vehicle_age_in_years\n",
        "\n",
        "  def describe(self):\n",
        "    print(f\"Vehicle {self.model}, {self.vehicle_age_in_years} years old, with approximately {self.vehicle_age_in_years} km\")\n",
        "\n",
        "\n",
        "class Car(Vehicle):\n",
        "  pass\n",
        "\n",
        "class Truck(Vehicle):\n",
        "  pass\n",
        "\n",
        "car = Car(\"Rolls Royce\", \"Camargue\", \"6\", \"Saloon\", \"$1000000\", \"$500000\", \"$250000\", \"2013-05-23\", \"5000km\", \"2013-06-25\", \"3\" )\n",
        "truck = Truck(\"Volvo\", \"Volvo AB10\", \"2\", \"hight_weight\", \"$3000000\", \"$1500000\", \"$1000000\", \"2019-02-25\", \"2500km\", \"2015-03-05\", \"10\")\n",
        "\n",
        "truck.describe()\n",
        "car.describe()\n"
      ],
      "metadata": {
        "colab": {
          "base_uri": "https://localhost:8080/"
        },
        "id": "wKHVRnYP8w5X",
        "outputId": "55d6e23a-ff92-43ec-8bbd-94133ad58da9"
      },
      "execution_count": 5,
      "outputs": [
        {
          "output_type": "stream",
          "name": "stdout",
          "text": [
            "Vehicle Volvo AB10, 10 years old, with approximately 10 km\n",
            "Vehicle Camargue, 3 years old, with approximately 3 km\n"
          ]
        }
      ]
    },
    {
      "cell_type": "markdown",
      "source": [
        "3. **Create a query that returns the top 3 car brands most sold (i.e., having the most car brand sales) during first\n",
        "and third quarter of year 2015.**\n",
        "\n",
        "\n"
      ],
      "metadata": {
        "id": "igLsAxbCj7Ca"
      }
    },
    {
      "cell_type": "code",
      "source": [
        ""
      ],
      "metadata": {
        "id": "FakSRp0X8sIe"
      },
      "execution_count": null,
      "outputs": []
    },
    {
      "cell_type": "code",
      "source": [
        "start_date = '2015-01-01'\n",
        "end_date = '2015-03-31'\n",
        "\n",
        "df = pd.merge(invoicesLines,stock,on=['StockID'])\n",
        "df = pd.merge(df,invoices,on=[\"InvoiceID\"])\n",
        "\n",
        "firstQuarter = (df['InvoiceDate'] >= start_date) & (df['InvoiceDate'] <= end_date)\n",
        "newDf = df.loc[firstQuarter]\n",
        "answerA = newDf['Make'].value_counts()[:3].rename_axis('Brand').reset_index(name='quantity')\n",
        "\n",
        "print('*** FIRST QUARTER 2015 *** \\n')\n",
        "print(answerA)\n",
        "print('\\n')\n",
        "\n",
        "\n",
        "start_date = '2015-07-01'\n",
        "end_date = '2015-09-30'\n",
        "\n",
        "thirdQuarter = (df['InvoiceDate'] >= start_date) & (df['InvoiceDate'] <= end_date)\n",
        "newDf = df.loc[thirdQuarter]\n",
        "\n",
        "answerB = newDf['Make'].value_counts()[:3].rename_axis('Brand').reset_index(name='quantity')\n",
        "print('*** THIRD QUARTER 2015 *** \\n')\n",
        "print(answerB)\n",
        "\n",
        "\n",
        "\n",
        "\n",
        "\n"
      ],
      "metadata": {
        "colab": {
          "base_uri": "https://localhost:8080/"
        },
        "id": "G9m4GYdXYkcY",
        "outputId": "78ebb7b5-22c1-49ee-be7d-98abf24175c4"
      },
      "execution_count": null,
      "outputs": [
        {
          "output_type": "stream",
          "name": "stdout",
          "text": [
            "*** FIRST QUARTER 2015 *** \n",
            "\n",
            "          Brand  quantity\n",
            "0        Jaguar        16\n",
            "1  Aston Martin        14\n",
            "2   Rolls Royce         8\n",
            "\n",
            "\n",
            "*** THIRD QUARTER 2015 *** \n",
            "\n",
            "          Brand  quantity\n",
            "0        Jaguar        14\n",
            "1  Aston Martin        10\n",
            "2   Rolls Royce         8\n"
          ]
        }
      ]
    },
    {
      "cell_type": "markdown",
      "source": [
        "\n",
        "3. **Create a query that shows the top 3 most sold car colors (i.e., having the most car color sales) for each\n",
        "quarter for the years 2012,2013,2014,2015.**"
      ],
      "metadata": {
        "id": "-aN8JQHwkJDg"
      }
    },
    {
      "cell_type": "code",
      "source": [
        "\n",
        "def printFunction(objectToPrint, year, dateName):\n",
        "  print('*** {dateName} QUARTER {year} *** \\n'.format(year=year,dateName=dateName))\n",
        "  print(objectToPrint)\n",
        "  print('\\n')\n",
        "\n",
        "def findQuartersMostSoldCarsByColor(years):\n",
        "  df = pd.merge(invoicesLines,stock,on=['StockID'])\n",
        "  df = pd.merge(df,invoices,on=[\"InvoiceID\"])\n",
        "  df = pd.merge(df,colors,on=[\"ColorID\"])\n",
        "\n",
        "\n",
        "  for year in years:\n",
        "    \n",
        "    first = (df['InvoiceDate'] >=  year + '-01-01') & (df['InvoiceDate'] < year + '-04-01')\n",
        "    newDf = df.loc[first]\n",
        "    answerFirst = newDf['Color'].value_counts()[:3].rename_axis('Brand').reset_index(name='quantity')\n",
        "    printFunction(answerFirst, year, \"FIRST\")\n",
        "\n",
        "    second = (df['InvoiceDate'] >= year + '-04-01') & (df['InvoiceDate'] < year + '-07-01')\n",
        "    newDf = df.loc[second]\n",
        "    answerSecond = newDf['Color'].value_counts()[:3].rename_axis('Brand').reset_index(name='quantity')\n",
        "    printFunction(answerSecond, year, \"SECOND\")\n",
        "   \n",
        "    third = (df['InvoiceDate'] >= year + '-07-01') & (df['InvoiceDate'] < year + '-09-01')\n",
        "    newDf = df.loc[third]\n",
        "    answerThird = newDf['Color'].value_counts()[:3].rename_axis('Brand').reset_index(name='quantity')\n",
        "    printFunction(answerThird, year, \"THIRD\")\n",
        "    \n",
        "    four = (df['InvoiceDate'] >= year + '-09-01') & (df['InvoiceDate'] <= year + '-12-31')\n",
        "    newDf = df.loc[four]\n",
        "    answerFour = newDf['Color'].value_counts()[:3].rename_axis('Brand').reset_index(name='quantity')\n",
        "    printFunction(answerFour, year, \"FOURTH\")\n",
        "   \n",
        "findQuartersMostSoldCarsByColor([\"2012\",\"2013\",\"2015\",\"2015\"])\n",
        "\n",
        "\n",
        "\n",
        "\n"
      ],
      "metadata": {
        "colab": {
          "base_uri": "https://localhost:8080/"
        },
        "id": "rW8koUvnkTop",
        "outputId": "c7688be1-4857-4106-8a16-fec53f3cc451"
      },
      "execution_count": null,
      "outputs": [
        {
          "output_type": "stream",
          "name": "stdout",
          "text": [
            "*** FIRST QUARTER 2012 *** \n",
            "\n",
            "         Brand  quantity\n",
            "0         Blue         4\n",
            "1        Black         1\n",
            "2  Dark Purple         1\n",
            "\n",
            "\n",
            "*** SECOND QUARTER 2012 *** \n",
            "\n",
            "           Brand  quantity\n",
            "0  Canary Yellow         4\n",
            "1    Dark Purple         2\n",
            "2            Red         1\n",
            "\n",
            "\n",
            "*** THIRD QUARTER 2012 *** \n",
            "\n",
            "   Brand  quantity\n",
            "0   Blue         2\n",
            "1  Black         1\n",
            "2    Red         1\n",
            "\n",
            "\n",
            "*** FOURTH QUARTER 2012 *** \n",
            "\n",
            "           Brand  quantity\n",
            "0  Canary Yellow         4\n",
            "1     Night Blue         3\n",
            "2          Black         2\n",
            "\n",
            "\n",
            "*** FIRST QUARTER 2013 *** \n",
            "\n",
            "         Brand  quantity\n",
            "0        Green         6\n",
            "1  Dark Purple         4\n",
            "2          Red         4\n",
            "\n",
            "\n",
            "*** SECOND QUARTER 2013 *** \n",
            "\n",
            "           Brand  quantity\n",
            "0            Red        11\n",
            "1  Canary Yellow         7\n",
            "2     Night Blue         4\n",
            "\n",
            "\n",
            "*** THIRD QUARTER 2013 *** \n",
            "\n",
            "    Brand  quantity\n",
            "0    Blue         4\n",
            "1   Black         3\n",
            "2  Silver         3\n",
            "\n",
            "\n",
            "*** FOURTH QUARTER 2013 *** \n",
            "\n",
            "    Brand  quantity\n",
            "0     Red         8\n",
            "1    Blue         7\n",
            "2  Silver         6\n",
            "\n",
            "\n",
            "*** FIRST QUARTER 2015 *** \n",
            "\n",
            "                  Brand  quantity\n",
            "0  British Racing Green        10\n",
            "1           Dark Purple         8\n",
            "2                Silver         8\n",
            "\n",
            "\n",
            "*** SECOND QUARTER 2015 *** \n",
            "\n",
            "           Brand  quantity\n",
            "0            Red        22\n",
            "1          Black         8\n",
            "2  Canary Yellow         8\n",
            "\n",
            "\n",
            "*** THIRD QUARTER 2015 *** \n",
            "\n",
            "           Brand  quantity\n",
            "0  Canary Yellow         8\n",
            "1    Dark Purple         6\n",
            "2            Red         6\n",
            "\n",
            "\n",
            "*** FOURTH QUARTER 2015 *** \n",
            "\n",
            "    Brand  quantity\n",
            "0  Silver        14\n",
            "1     Red        14\n",
            "2    Blue        12\n",
            "\n",
            "\n",
            "*** FIRST QUARTER 2015 *** \n",
            "\n",
            "                  Brand  quantity\n",
            "0  British Racing Green        10\n",
            "1           Dark Purple         8\n",
            "2                Silver         8\n",
            "\n",
            "\n",
            "*** SECOND QUARTER 2015 *** \n",
            "\n",
            "           Brand  quantity\n",
            "0            Red        22\n",
            "1          Black         8\n",
            "2  Canary Yellow         8\n",
            "\n",
            "\n",
            "*** THIRD QUARTER 2015 *** \n",
            "\n",
            "           Brand  quantity\n",
            "0  Canary Yellow         8\n",
            "1    Dark Purple         6\n",
            "2            Red         6\n",
            "\n",
            "\n",
            "*** FOURTH QUARTER 2015 *** \n",
            "\n",
            "    Brand  quantity\n",
            "0  Silver        14\n",
            "1     Red        14\n",
            "2    Blue        12\n",
            "\n",
            "\n"
          ]
        }
      ]
    }
  ]
}